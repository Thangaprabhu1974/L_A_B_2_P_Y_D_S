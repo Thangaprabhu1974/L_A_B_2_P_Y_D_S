{
 "cells": [
  {
   "cell_type": "markdown",
   "id": "1bd3906b",
   "metadata": {
    "id": "1bd3906b"
   },
   "source": [
    "## Lab Session "
   ]
  },
  {
   "cell_type": "markdown",
   "id": "ccfb2855",
   "metadata": {
    "id": "ccfb2855"
   },
   "source": [
    "### Learning Objective:\n",
    "- Working with data using python libaries.\n",
    "- Data Visualization.\n",
    "- Exploratory data analysis and data preprocessing.\n",
    "- Building a Linear regression model to predict the tip amount based on different input features."
   ]
  },
  {
   "cell_type": "markdown",
   "id": "61ef0de3",
   "metadata": {
    "id": "61ef0de3"
   },
   "source": [
    "### About the dataset (Customer Tip Data)\n",
    "\n",
    "#### Dataset Source: https://www.kaggle.com/datasets/ranjeetjain3/seaborn-tips-dataset\n",
    "\n",
    "The dataset contains information about the 244 orders served at a restaurant in the United States. Each observation includes the factors related to the order like total bill, time, the total number of people in a group, gender of the person paying for the order and so on.\n",
    "\n",
    "#### Attribute Information:\n",
    "\n",
    "- **total_bill:** Total bill (cost of the meal), including tax, in US dollars\n",
    "- **tip:** Tip in US dollars\n",
    "- **sex:** Sex of person paying for the meal\n",
    "- **smoker:** There is a smoker in a group or not\n",
    "- **day:** Day on which the order is served\n",
    "- **time:** Time of the order\n",
    "- **size:** Size of the group\n",
    "\n",
    "Food servers’ tips in restaurants may be influenced by many factors, including the nature of the restaurant, size of the party, and table locations in the restaurant. Restaurant managers need to know which factors matter when they assign tables to food servers. For the sake of staff morale, they usually want to avoid either the substance or the appearance of unfair\n",
    "treatment of the servers, for whom tips (at least in restaurants in the UnitedStates) are a major component of pay."
   ]
  },
  {
   "cell_type": "markdown",
   "id": "e4e44e06",
   "metadata": {
    "id": "e4e44e06"
   },
   "source": [
    "### Import required libraries"
   ]
  },
  {
   "cell_type": "code",
   "execution_count": null,
   "id": "89b9d6d7",
   "metadata": {
    "id": "89b9d6d7",
    "scrolled": false
   },
   "outputs": [
    {
     "name": "stdout",
     "output_type": "stream",
     "text": [
      "Required libraries are imported\n"
     ]
    }
   ],
   "source": [
    "import pandas as pd\n",
    "import numpy as np\n",
    "import matplotlib.pyplot as plt\n",
    "import seaborn as sns\n",
    "from sklearn.linear_model import LinearRegression\n",
    "from sklearn.model_selection import train_test_split\n",
    "from sklearn.metrics import mean_squared_error\n",
    "print(\"Required libraries are imported\")"
   ]
  },
  {
   "cell_type": "markdown",
   "id": "9ead3dea",
   "metadata": {
    "id": "9ead3dea"
   },
   "source": [
    "### Load the dataset"
   ]
  },
  {
   "cell_type": "code",
   "execution_count": null,
   "id": "a9ba115f",
   "metadata": {
    "id": "a9ba115f",
    "scrolled": false
   },
   "outputs": [
    {
     "data": {
      "text/html": [
       "<div>\n",
       "<style scoped>\n",
       "    .dataframe tbody tr th:only-of-type {\n",
       "        vertical-align: middle;\n",
       "    }\n",
       "\n",
       "    .dataframe tbody tr th {\n",
       "        vertical-align: top;\n",
       "    }\n",
       "\n",
       "    .dataframe thead th {\n",
       "        text-align: right;\n",
       "    }\n",
       "</style>\n",
       "<table border=\"1\" class=\"dataframe\">\n",
       "  <thead>\n",
       "    <tr style=\"text-align: right;\">\n",
       "      <th></th>\n",
       "      <th>total_bill</th>\n",
       "      <th>tip</th>\n",
       "      <th>sex</th>\n",
       "      <th>smoker</th>\n",
       "      <th>day</th>\n",
       "      <th>time</th>\n",
       "      <th>size</th>\n",
       "    </tr>\n",
       "  </thead>\n",
       "  <tbody>\n",
       "    <tr>\n",
       "      <th>0</th>\n",
       "      <td>16.99</td>\n",
       "      <td>1.01</td>\n",
       "      <td>Female</td>\n",
       "      <td>No</td>\n",
       "      <td>Sun</td>\n",
       "      <td>Dinner</td>\n",
       "      <td>2</td>\n",
       "    </tr>\n",
       "    <tr>\n",
       "      <th>1</th>\n",
       "      <td>10.34</td>\n",
       "      <td>1.66</td>\n",
       "      <td>Male</td>\n",
       "      <td>No</td>\n",
       "      <td>Sun</td>\n",
       "      <td>Dinner</td>\n",
       "      <td>3</td>\n",
       "    </tr>\n",
       "    <tr>\n",
       "      <th>2</th>\n",
       "      <td>21.01</td>\n",
       "      <td>3.50</td>\n",
       "      <td>Male</td>\n",
       "      <td>No</td>\n",
       "      <td>Sun</td>\n",
       "      <td>Dinner</td>\n",
       "      <td>3</td>\n",
       "    </tr>\n",
       "    <tr>\n",
       "      <th>3</th>\n",
       "      <td>23.68</td>\n",
       "      <td>3.31</td>\n",
       "      <td>Male</td>\n",
       "      <td>No</td>\n",
       "      <td>Sun</td>\n",
       "      <td>Dinner</td>\n",
       "      <td>2</td>\n",
       "    </tr>\n",
       "    <tr>\n",
       "      <th>4</th>\n",
       "      <td>24.59</td>\n",
       "      <td>3.61</td>\n",
       "      <td>Female</td>\n",
       "      <td>No</td>\n",
       "      <td>Sun</td>\n",
       "      <td>Dinner</td>\n",
       "      <td>4</td>\n",
       "    </tr>\n",
       "  </tbody>\n",
       "</table>\n",
       "</div>"
      ],
      "text/plain": [
       "   total_bill   tip     sex smoker  day    time  size\n",
       "0       16.99  1.01  Female     No  Sun  Dinner     2\n",
       "1       10.34  1.66    Male     No  Sun  Dinner     3\n",
       "2       21.01  3.50    Male     No  Sun  Dinner     3\n",
       "3       23.68  3.31    Male     No  Sun  Dinner     2\n",
       "4       24.59  3.61  Female     No  Sun  Dinner     4"
      ]
     },
     "execution_count": 13,
     "metadata": {},
     "output_type": "execute_result"
    }
   ],
   "source": [
    "import pandas as pd\n",
    "\n",
    "df = pd.read_csv('tips.csv')\n",
    "\n",
    "# Print the first five rows\n",
    "df.head(5)"
   ]
  },
  {
   "cell_type": "markdown",
   "id": "42cd8e14",
   "metadata": {
    "id": "42cd8e14"
   },
   "source": [
    "### 1. Make a list of categorical and numerical columns in the data."
   ]
  },
  {
   "cell_type": "code",
   "execution_count": 14,
   "id": "abc60524",
   "metadata": {
    "id": "abc60524",
    "scrolled": true
   },
   "outputs": [
    {
     "name": "stdout",
     "output_type": "stream",
     "text": [
      "Categorical columns:\n",
      "['sex', 'smoker', 'day', 'time']\n",
      "\n",
      "Numerical columns:\n",
      "['total_bill', 'tip', 'size']\n"
     ]
    }
   ],
   "source": [
    "import pandas as pd\n",
    "\n",
    "# Read the dataset\n",
    "df = pd.read_csv('tips.csv')  \n",
    "# Get the list of column names\n",
    "columns = df.columns\n",
    "\n",
    "# Initialize empty lists for categorical and numerical columns\n",
    "categorical_columns = []\n",
    "numerical_columns = []\n",
    "\n",
    "# Iterate over the columns and determine the data type\n",
    "for column in columns:\n",
    "    if df[column].dtype == 'object':  # Categorical columns have the data type 'object'\n",
    "        categorical_columns.append(column)\n",
    "    else:\n",
    "        numerical_columns.append(column)\n",
    "\n",
    "# Print the lists of categorical and numerical columns\n",
    "print(\"Categorical columns:\")\n",
    "print(categorical_columns)\n",
    "print(\"\\nNumerical columns:\")\n",
    "print(numerical_columns)"
   ]
  },
  {
   "cell_type": "markdown",
   "id": "41ef8841",
   "metadata": {
    "id": "41ef8841"
   },
   "source": [
    "### 2. Compute the average bill amount for each day."
   ]
  },
  {
   "cell_type": "code",
   "execution_count": 15,
   "id": "75b5c0f2",
   "metadata": {
    "id": "75b5c0f2",
    "scrolled": true
   },
   "outputs": [
    {
     "name": "stdout",
     "output_type": "stream",
     "text": [
      "day\n",
      "Fri     17.151579\n",
      "Sat     20.441379\n",
      "Sun     21.410000\n",
      "Thur    17.682742\n",
      "Name: total_bill, dtype: float64\n"
     ]
    }
   ],
   "source": [
    "import pandas as pd\n",
    "\n",
    "# Read the dataset\n",
    "df = pd.read_csv('tips.csv')  \n",
    "\n",
    "# Compute the average bill amount for each day\n",
    "average_bill_by_day = df.groupby('day')['total_bill'].mean()\n",
    "\n",
    "# Print the average bill amounts\n",
    "print(average_bill_by_day)"
   ]
  },
  {
   "cell_type": "markdown",
   "id": "18894954",
   "metadata": {
    "id": "18894954"
   },
   "source": [
    "### 3. Which gender is more generous in giving tips?"
   ]
  },
  {
   "cell_type": "code",
   "execution_count": 2,
   "id": "f506a83a",
   "metadata": {
    "id": "f506a83a",
    "scrolled": true
   },
   "outputs": [
    {
     "name": "stdout",
     "output_type": "stream",
     "text": [
      "sex\n",
      "Female     87\n",
      "Male      157\n",
      "Name: tip, dtype: int64\n",
      "The gender that is more generous in giving tips is: Male\n"
     ]
    }
   ],
   "source": [
    "import pandas as pd\n",
    "\n",
    "# Read the dataset\n",
    "df = pd.read_csv('tips.csv') \n",
    "\n",
    "# Calculate the counts of tips given by each gender\n",
    "gender_tip_counts = df.groupby('sex')['tip'].count()\n",
    "\n",
    "# Print the counts of tips for each gender\n",
    "print(gender_tip_counts)\n",
    "\n",
    "# Compute the average tip amount for each gender\n",
    "average_tip_by_gender = df.groupby('sex')['tip'].mean()\n",
    "\n",
    "# Determine the gender with the higher average tip amount\n",
    "more_generous_gender = average_tip_by_gender.idxmax()\n",
    "\n",
    "# Print the result\n",
    "print(\"The gender that is more generous in giving tips is:\", more_generous_gender)\n"
   ]
  },
  {
   "cell_type": "markdown",
   "id": "984e3dbf",
   "metadata": {
    "id": "984e3dbf"
   },
   "source": [
    "### 4. According to the data, were there more customers for dinner or lunch?"
   ]
  },
  {
   "cell_type": "code",
   "execution_count": 17,
   "id": "d5cabe95",
   "metadata": {
    "id": "d5cabe95",
    "scrolled": true
   },
   "outputs": [
    {
     "name": "stdout",
     "output_type": "stream",
     "text": [
      "According to the data, there were more customers for Dinner\n"
     ]
    }
   ],
   "source": [
    "import pandas as pd\n",
    "\n",
    "# Read the dataset\n",
    "df = pd.read_csv('tips.csv')  \n",
    "\n",
    "# Count the number of customers for each time (lunch or dinner)\n",
    "customer_count_by_time = df['time'].value_counts()\n",
    "\n",
    "# Determine whether there were more customers for dinner or lunch\n",
    "if customer_count_by_time['Dinner'] > customer_count_by_time['Lunch']:\n",
    "    more_customers_time = 'Dinner'\n",
    "else:\n",
    "    more_customers_time = 'Lunch'\n",
    "\n",
    "# Print the result\n",
    "print(\"According to the data, there were more customers for\", more_customers_time)\n"
   ]
  },
  {
   "cell_type": "markdown",
   "id": "6cd773f0",
   "metadata": {
    "id": "6cd773f0"
   },
   "source": [
    "### 5. Based on the statistical summary, comment on the variable 'tip'"
   ]
  },
  {
   "cell_type": "code",
   "execution_count": 3,
   "id": "6ba68900",
   "metadata": {
    "id": "6ba68900",
    "scrolled": true
   },
   "outputs": [
    {
     "name": "stdout",
     "output_type": "stream",
     "text": [
      "count    244.000000\n",
      "mean       2.998279\n",
      "std        1.383638\n",
      "min        1.000000\n",
      "25%        2.000000\n",
      "50%        2.900000\n",
      "75%        3.562500\n",
      "max       10.000000\n",
      "Name: tip, dtype: float64\n",
      "The tips are moderately distributed.\n",
      "There is a significant variability in tip amounts.\n"
     ]
    }
   ],
   "source": [
    "import pandas as pd\n",
    "\n",
    "# Read the dataset from a CSV file\n",
    "filename = \"tips.csv\"\n",
    "df = pd.read_csv(filename)\n",
    "\n",
    "# Generate statistical summary of the 'tip' variable\n",
    "tip_summary = df['tip'].describe()\n",
    "\n",
    "# Print the statistical summary\n",
    "print(tip_summary)\n",
    "\n",
    "# Additional comments based on the statistical summary\n",
    "if tip_summary['min'] == tip_summary['max']:\n",
    "    print(\"All tips have the same amount.\")\n",
    "else:\n",
    "    if tip_summary['mean'] > 3:\n",
    "        print(\"On average, the tips are relatively high.\")\n",
    "    elif tip_summary['mean'] < 2:\n",
    "        print(\"On average, the tips are relatively low.\")\n",
    "    else:\n",
    "        print(\"The tips are moderately distributed.\")\n",
    "\n",
    "    if tip_summary['std'] > 1:\n",
    "        print(\"There is a significant variability in tip amounts.\")\n",
    "    else:\n",
    "        print(\"The tip amounts are relatively consistent.\")\n"
   ]
  },
  {
   "cell_type": "markdown",
   "id": "d9c31198",
   "metadata": {
    "id": "d9c31198"
   },
   "source": [
    "### 6. Find the busiest day in terms of the orders?"
   ]
  },
  {
   "cell_type": "code",
   "execution_count": 19,
   "id": "c3d6ee67",
   "metadata": {
    "id": "c3d6ee67",
    "scrolled": true
   },
   "outputs": [
    {
     "name": "stdout",
     "output_type": "stream",
     "text": [
      "The busiest day in terms of orders is: Sat\n"
     ]
    }
   ],
   "source": [
    "import pandas as pd\n",
    "\n",
    "# Read the dataset\n",
    "df = pd.read_csv('tips.csv') \n",
    "\n",
    "# Count the number of orders for each day\n",
    "orders_by_day = df['day'].value_counts()\n",
    "\n",
    "# Find the busiest day\n",
    "busiest_day = orders_by_day.idxmax()\n",
    "\n",
    "# Print the result\n",
    "print(\"The busiest day in terms of orders is:\", busiest_day)\n"
   ]
  },
  {
   "cell_type": "markdown",
   "id": "f01ba5cf",
   "metadata": {
    "id": "f01ba5cf"
   },
   "source": [
    "### 7. Is the variable 'total_bill' skewed? If yes, identify the type of skewness. Support your answer with a plot"
   ]
  },
  {
   "cell_type": "code",
   "execution_count": 20,
   "id": "05a8b7c2",
   "metadata": {
    "id": "05a8b7c2",
    "scrolled": true
   },
   "outputs": [
    {
     "data": {
      "image/png": "[encoded data removed]",
      "text/plain": [
       "<Figure size 640x480 with 1 Axes>"
      ]
     },
     "metadata": {},
     "output_type": "display_data"
    },
    {
     "name": "stdout",
     "output_type": "stream",
     "text": [
      "Is the variable 'total_bill' skewed?\n",
      "Yes\n",
      "Skewness Type: right-skewed\n"
     ]
    }
   ],
   "source": [
    "import pandas as pd\n",
    "import matplotlib.pyplot as plt\n",
    "\n",
    "# Read the dataset\n",
    "df = pd.read_csv('tips.csv')  \n",
    "\n",
    "# Check the skewness of the 'total_bill' variable\n",
    "skewness = df['total_bill'].skew()\n",
    "\n",
    "# Determine the type of skewness\n",
    "if skewness > 0:\n",
    "    skewness_type = \"right-skewed\"\n",
    "elif skewness < 0:\n",
    "    skewness_type = \"left-skewed\"\n",
    "else:\n",
    "    skewness_type = \"symmetric\"\n",
    "\n",
    "# Plot a histogram of the 'total_bill' variable\n",
    "plt.hist(df['total_bill'], bins=20)\n",
    "plt.xlabel('Total Bill')\n",
    "plt.ylabel('Frequency')\n",
    "plt.title('Histogram of Total Bill')\n",
    "plt.show()\n",
    "\n",
    "# Print the results\n",
    "print(\"Is the variable 'total_bill' skewed?\")\n",
    "print(\"Yes\" if skewness_type != \"symmetric\" else \"No\")\n",
    "print(\"Skewness Type:\", skewness_type)\n"
   ]
  },
  {
   "cell_type": "markdown",
   "id": "0fe8fa86",
   "metadata": {
    "id": "0fe8fa86"
   },
   "source": [
    "### 8. Is the tip amount dependent on the total bill? Visualize the relationship with a appropriate plot and metric and write your findings."
   ]
  },
  {
   "cell_type": "code",
   "execution_count": 21,
   "id": "d45c2da4",
   "metadata": {
    "id": "d45c2da4",
    "scrolled": true
   },
   "outputs": [
    {
     "data": {
      "image/png": "[encoded data removed]",
      "text/plain": [
       "<Figure size 640x480 with 1 Axes>"
      ]
     },
     "metadata": {},
     "output_type": "display_data"
    },
    {
     "name": "stdout",
     "output_type": "stream",
     "text": [
      "Correlation Coefficient: 0.6757341092113645\n",
      "The tip amount has a positive correlation with the total bill.\n"
     ]
    }
   ],
   "source": [
    "import pandas as pd\n",
    "import seaborn as sns\n",
    "import matplotlib.pyplot as plt\n",
    "\n",
    "# Read the dataset\n",
    "df = pd.read_csv('tips.csv')  \n",
    "\n",
    "# Visualize the relationship between total bill and tip amount\n",
    "sns.scatterplot(data=df, x='total_bill', y='tip')\n",
    "plt.xlabel('Total Bill')\n",
    "plt.ylabel('Tip Amount')\n",
    "plt.title('Relationship between Total Bill and Tip Amount')\n",
    "plt.show()\n",
    "\n",
    "# Calculate the correlation coefficient between total bill and tip amount\n",
    "correlation = df['total_bill'].corr(df['tip'])\n",
    "\n",
    "# Print the correlation coefficient and findings\n",
    "print(\"Correlation Coefficient:\", correlation)\n",
    "if correlation > 0:\n",
    "    print(\"The tip amount has a positive correlation with the total bill.\")\n",
    "elif correlation < 0:\n",
    "    print(\"The tip amount has a negative correlation with the total bill.\")\n",
    "else:\n",
    "    print(\"There is no correlation between the tip amount and the total bill.\")\n"
   ]
  },
  {
   "cell_type": "markdown",
   "id": "2469e9cc",
   "metadata": {
    "id": "2469e9cc"
   },
   "source": [
    "### 9. What is the percentage of males and females in the dataset? and display it in the plot"
   ]
  },
  {
   "cell_type": "code",
   "execution_count": 22,
   "id": "0dfd6414",
   "metadata": {
    "id": "0dfd6414",
    "scrolled": true
   },
   "outputs": [
    {
     "data": {
      "image/png": "[encoded data removed]",
      "text/plain": [
       "<Figure size 640x480 with 1 Axes>"
      ]
     },
     "metadata": {},
     "output_type": "display_data"
    },
    {
     "name": "stdout",
     "output_type": "stream",
     "text": [
      "Percentage of Males: 64.34426229508196\n",
      "Percentage of Females: 35.65573770491803\n"
     ]
    }
   ],
   "source": [
    "import pandas as pd\n",
    "import matplotlib.pyplot as plt\n",
    "\n",
    "# Read the dataset\n",
    "df = pd.read_csv('tips.csv')  \n",
    "\n",
    "# Calculate the percentage of males and females\n",
    "gender_counts = df['sex'].value_counts()\n",
    "total_count = gender_counts.sum()\n",
    "percentage_male = (gender_counts['Male'] / total_count) * 100\n",
    "percentage_female = (gender_counts['Female'] / total_count) * 100\n",
    "\n",
    "# Create a pie chart to display the percentages\n",
    "labels = ['Male', 'Female']\n",
    "sizes = [percentage_male, percentage_female]\n",
    "colors = ['skyblue', 'pink']\n",
    "plt.pie(sizes, labels=labels, colors=colors, autopct='%1.1f%%')\n",
    "plt.title('Percentage of Males and Females')\n",
    "plt.show()\n",
    "\n",
    "# Print the percentages\n",
    "print(\"Percentage of Males:\", percentage_male)\n",
    "print(\"Percentage of Females:\", percentage_female)\n"
   ]
  },
  {
   "cell_type": "markdown",
   "id": "35e7f9bb",
   "metadata": {
    "id": "35e7f9bb"
   },
   "source": [
    "### 10. Compute the gender-wise count based on smoking habits and display it in the plot"
   ]
  },
  {
   "cell_type": "code",
   "execution_count": 23,
   "id": "a266dd22",
   "metadata": {
    "id": "a266dd22",
    "scrolled": true
   },
   "outputs": [
    {
     "data": {
      "image/png": "[encoded data removed]",
      "text/plain": [
       "<Figure size 640x480 with 1 Axes>"
      ]
     },
     "metadata": {},
     "output_type": "display_data"
    },
    {
     "name": "stdout",
     "output_type": "stream",
     "text": [
      "Gender-wise Count based on Smoking Habits:\n",
      "smoker  No  Yes\n",
      "sex            \n",
      "Female  54   33\n",
      "Male    97   60\n"
     ]
    }
   ],
   "source": [
    "import pandas as pd\n",
    "import seaborn as sns\n",
    "import matplotlib.pyplot as plt\n",
    "\n",
    "# Read the dataset\n",
    "df = pd.read_csv('tips.csv')  \n",
    "\n",
    "# Compute the gender-wise count based on smoking habits\n",
    "gender_smoker_counts = df.groupby(['sex', 'smoker']).size().unstack()\n",
    "\n",
    "# Create a bar plot to display the counts\n",
    "gender_smoker_counts.plot(kind='bar', stacked=True)\n",
    "plt.xlabel('Gender')\n",
    "plt.ylabel('Count')\n",
    "plt.title('Gender-wise Count based on Smoking Habits')\n",
    "plt.legend(title='Smoker', loc='upper right')\n",
    "plt.show()\n",
    "\n",
    "# Print the counts\n",
    "print(\"Gender-wise Count based on Smoking Habits:\")\n",
    "print(gender_smoker_counts)\n"
   ]
  },
  {
   "cell_type": "markdown",
   "id": "1f8ba505",
   "metadata": {
    "id": "1f8ba505"
   },
   "source": [
    "### 11. Compute the average tip amount given for different days and display it in the plot."
   ]
  },
  {
   "cell_type": "code",
   "execution_count": 24,
   "id": "13ae2148",
   "metadata": {
    "id": "13ae2148",
    "scrolled": true
   },
   "outputs": [
    {
     "data": {
      "image/png": "[encoded data removed]",
      "text/plain": [
       "<Figure size 640x480 with 1 Axes>"
      ]
     },
     "metadata": {},
     "output_type": "display_data"
    },
    {
     "name": "stdout",
     "output_type": "stream",
     "text": [
      "Average Tip Amount by Day:\n",
      "day\n",
      "Fri     2.734737\n",
      "Sat     2.993103\n",
      "Sun     3.255132\n",
      "Thur    2.771452\n",
      "Name: tip, dtype: float64\n"
     ]
    }
   ],
   "source": [
    "import pandas as pd\n",
    "import matplotlib.pyplot as plt\n",
    "\n",
    "# Read the dataset\n",
    "df = pd.read_csv('tips.csv')  \n",
    "\n",
    "# Compute the average tip amount for different days\n",
    "average_tip_by_day = df.groupby('day')['tip'].mean()\n",
    "\n",
    "# Create a bar plot to display the average tip amounts\n",
    "average_tip_by_day.plot(kind='bar')\n",
    "plt.xlabel('Day')\n",
    "plt.ylabel('Average Tip Amount')\n",
    "plt.title('Average Tip Amount by Day')\n",
    "plt.show()\n",
    "\n",
    "# Print the average tip amounts\n",
    "print(\"Average Tip Amount by Day:\")\n",
    "print(average_tip_by_day)\n"
   ]
  },
  {
   "cell_type": "markdown",
   "id": "873f97a5",
   "metadata": {
    "id": "873f97a5"
   },
   "source": [
    "### 12. Is the average bill amount dependent on the size of the group? Visualize the relationship using appropriate plot and write your findings."
   ]
  },
  {
   "cell_type": "code",
   "execution_count": 25,
   "id": "07f676ad",
   "metadata": {
    "id": "07f676ad",
    "scrolled": true
   },
   "outputs": [
    {
     "data": {
      "image/png": "[encoded data removed]",
      "text/plain": [
       "<Figure size 640x480 with 1 Axes>"
      ]
     },
     "metadata": {},
     "output_type": "display_data"
    },
    {
     "name": "stdout",
     "output_type": "stream",
     "text": [
      "Average Bill Amount by Group Size:\n",
      "size\n",
      "1     7.242500\n",
      "2    16.448013\n",
      "3    23.277632\n",
      "4    28.613514\n",
      "5    30.068000\n",
      "6    34.830000\n",
      "Name: total_bill, dtype: float64\n"
     ]
    }
   ],
   "source": [
    "import pandas as pd\n",
    "import seaborn as sns\n",
    "import matplotlib.pyplot as plt\n",
    "\n",
    "# Read the dataset\n",
    "df = pd.read_csv('tips.csv') \n",
    "\n",
    "# Compute the average bill amount for each group size\n",
    "average_bill_by_size = df.groupby('size')['total_bill'].mean()\n",
    "\n",
    "# Create a line plot to display the relationship between group size and average bill amount\n",
    "sns.lineplot(data=average_bill_by_size)\n",
    "plt.xlabel('Group Size')\n",
    "plt.ylabel('Average Bill Amount')\n",
    "plt.title('Average Bill Amount by Group Size')\n",
    "plt.show()\n",
    "\n",
    "# Print the average bill amounts\n",
    "print(\"Average Bill Amount by Group Size:\")\n",
    "print(average_bill_by_size)\n"
   ]
  },
  {
   "cell_type": "markdown",
   "id": "566ae9fe",
   "metadata": {
    "id": "566ae9fe"
   },
   "source": [
    "### 13. Plot a horizontal boxplot to compare the bill amount based on gender"
   ]
  },
  {
   "cell_type": "code",
   "execution_count": 26,
   "id": "5957b3aa",
   "metadata": {
    "id": "5957b3aa",
    "scrolled": true
   },
   "outputs": [
    {
     "data": {
      "image/png": "[encoded data removed]",
      "text/plain": [
       "<Figure size 640x480 with 1 Axes>"
      ]
     },
     "metadata": {},
     "output_type": "display_data"
    }
   ],
   "source": [
    "import pandas as pd\n",
    "import seaborn as sns\n",
    "import matplotlib.pyplot as plt\n",
    "\n",
    "# Read the dataset\n",
    "df = pd.read_csv('tips.csv')  \n",
    "\n",
    "# Create a horizontal boxplot to compare the bill amount based on gender\n",
    "sns.boxplot(data=df, x='total_bill', y='sex', orient='h')\n",
    "plt.xlabel('Total Bill')\n",
    "plt.ylabel('Gender')\n",
    "plt.title('Comparison of Bill Amount by Gender')\n",
    "plt.show()\n"
   ]
  },
  {
   "cell_type": "markdown",
   "id": "5bc13310",
   "metadata": {
    "id": "5bc13310"
   },
   "source": [
    "### 14. Find the maximum bill amount for lunch and dinner on Saturday and Sunday"
   ]
  },
  {
   "cell_type": "code",
   "execution_count": 28,
   "id": "06f56d22",
   "metadata": {
    "id": "06f56d22",
    "scrolled": true
   },
   "outputs": [
    {
     "name": "stdout",
     "output_type": "stream",
     "text": [
      "Maximum bill amount for Saturday lunch: nan\n",
      "Maximum bill amount for Saturday dinner: 50.81\n",
      "Maximum bill amount for Sunday lunch: nan\n",
      "Maximum bill amount for Sunday dinner: 48.17\n"
     ]
    }
   ],
   "source": [
    "import pandas as pd\n",
    "\n",
    "# Load the data from the CSV file\n",
    "df = pd.read_csv('tips.csv')\n",
    "\n",
    "# Filter the DataFrame for Saturday and Sunday separately and for lunch and dinner\n",
    "saturday_lunch = df[(df['day'] == 'Sat') & (df['time'] == 'Lunch')]\n",
    "saturday_dinner = df[(df['day'] == 'Sat') & (df['time'] == 'Dinner')]\n",
    "sunday_lunch = df[(df['day'] == 'Sun') & (df['time'] == 'Lunch')]\n",
    "sunday_dinner = df[(df['day'] == 'Sun') & (df['time'] == 'Dinner')]\n",
    "\n",
    "# Find the maximum bill amount for lunch and dinner on Saturday and Sunday\n",
    "max_bill_saturday_lunch = saturday_lunch['total_bill'].max()\n",
    "max_bill_saturday_dinner = saturday_dinner['total_bill'].max()\n",
    "max_bill_sunday_lunch = sunday_lunch['total_bill'].max()\n",
    "max_bill_sunday_dinner = sunday_dinner['total_bill'].max()\n",
    "\n",
    "# Print the results\n",
    "print(\"Maximum bill amount for Saturday lunch:\", max_bill_saturday_lunch)\n",
    "print(\"Maximum bill amount for Saturday dinner:\", max_bill_saturday_dinner)\n",
    "print(\"Maximum bill amount for Sunday lunch:\", max_bill_sunday_lunch)\n",
    "print(\"Maximum bill amount for Sunday dinner:\", max_bill_sunday_dinner)\n",
    "\n"
   ]
  },
  {
   "cell_type": "markdown",
   "id": "aa484774",
   "metadata": {
    "id": "aa484774"
   },
   "source": [
    "### 15. Compute the percentage of missing values in the dataset."
   ]
  },
  {
   "cell_type": "code",
   "execution_count": 29,
   "id": "5c9bf12e",
   "metadata": {
    "id": "5c9bf12e",
    "scrolled": true
   },
   "outputs": [
    {
     "name": "stdout",
     "output_type": "stream",
     "text": [
      "Percentage of missing values in the dataset:\n",
      "total_bill    0.0\n",
      "tip           0.0\n",
      "sex           0.0\n",
      "smoker        0.0\n",
      "day           0.0\n",
      "time          0.0\n",
      "size          0.0\n",
      "dtype: float64\n"
     ]
    }
   ],
   "source": [
    "import pandas as pd\n",
    "\n",
    "# Load the data from the CSV file\n",
    "df = pd.read_csv('tips.csv')\n",
    "\n",
    "# Compute the percentage of missing values for each column\n",
    "missing_percentages = (df.isnull().sum() / len(df)) * 100\n",
    "\n",
    "# Print the result\n",
    "print(\"Percentage of missing values in the dataset:\")\n",
    "print(missing_percentages)\n"
   ]
  },
  {
   "cell_type": "markdown",
   "id": "abfaf333",
   "metadata": {
    "id": "abfaf333"
   },
   "source": [
    "### 16. Is there are any duplicate records in the dataset? If yes compute the count of the duplicate records and drop them."
   ]
  },
  {
   "cell_type": "code",
   "execution_count": 30,
   "id": "751f4641",
   "metadata": {
    "id": "751f4641",
    "scrolled": true
   },
   "outputs": [
    {
     "name": "stdout",
     "output_type": "stream",
     "text": [
      "Duplicate records found. Count: 1\n",
      "Duplicate records dropped.\n",
      "     total_bill   tip     sex smoker   day    time  size\n",
      "0         16.99  1.01  Female     No   Sun  Dinner     2\n",
      "1         10.34  1.66    Male     No   Sun  Dinner     3\n",
      "2         21.01  3.50    Male     No   Sun  Dinner     3\n",
      "3         23.68  3.31    Male     No   Sun  Dinner     2\n",
      "4         24.59  3.61  Female     No   Sun  Dinner     4\n",
      "..          ...   ...     ...    ...   ...     ...   ...\n",
      "239       29.03  5.92    Male     No   Sat  Dinner     3\n",
      "240       27.18  2.00  Female    Yes   Sat  Dinner     2\n",
      "241       22.67  2.00    Male    Yes   Sat  Dinner     2\n",
      "242       17.82  1.75    Male     No   Sat  Dinner     2\n",
      "243       18.78  3.00  Female     No  Thur  Dinner     2\n",
      "\n",
      "[243 rows x 7 columns]\n"
     ]
    }
   ],
   "source": [
    "import pandas as pd\n",
    "\n",
    "# Load the data from the CSV file\n",
    "df = pd.read_csv('tips.csv')\n",
    "\n",
    "# Check for duplicate records\n",
    "duplicate_rows = df[df.duplicated()]\n",
    "\n",
    "if not duplicate_rows.empty:\n",
    "    # Compute the count of duplicate records\n",
    "    duplicate_count = len(duplicate_rows)\n",
    "\n",
    "    print(\"Duplicate records found. Count:\", duplicate_count)\n",
    "\n",
    "    # Drop the duplicate records\n",
    "    df.drop_duplicates(inplace=True)\n",
    "    print(\"Duplicate records dropped.\")\n",
    "else:\n",
    "    print(\"No duplicate records found.\")\n",
    "\n",
    "# Print the updated dataset\n",
    "print(df)\n"
   ]
  },
  {
   "cell_type": "markdown",
   "id": "4aa4a763",
   "metadata": {
    "id": "4aa4a763"
   },
   "source": [
    "### 17. Is there are any outliers present in the column 'total_bill'? If yes treat them with transformation approach, and plot a boxplot before and after the treatment"
   ]
  },
  {
   "cell_type": "code",
   "execution_count": 31,
   "id": "c6885f21",
   "metadata": {
    "id": "c6885f21",
    "scrolled": true
   },
   "outputs": [
    {
     "data": {
      "image/png": "[encoded data removed]",
      "text/plain": [
       "<Figure size 800x600 with 1 Axes>"
      ]
     },
     "metadata": {},
     "output_type": "display_data"
    },
    {
     "data": {
      "image/png": "[encoded data removed]",
      "text/plain": [
       "<Figure size 800x600 with 1 Axes>"
      ]
     },
     "metadata": {},
     "output_type": "display_data"
    },
    {
     "name": "stdout",
     "output_type": "stream",
     "text": [
      "     total_bill   tip     sex smoker   day    time  size\n",
      "0         16.99  1.01  Female     No   Sun  Dinner     2\n",
      "1         10.34  1.66    Male     No   Sun  Dinner     3\n",
      "2         21.01  3.50    Male     No   Sun  Dinner     3\n",
      "3         23.68  3.31    Male     No   Sun  Dinner     2\n",
      "4         24.59  3.61  Female     No   Sun  Dinner     4\n",
      "..          ...   ...     ...    ...   ...     ...   ...\n",
      "239       29.03  5.92    Male     No   Sat  Dinner     3\n",
      "240       27.18  2.00  Female    Yes   Sat  Dinner     2\n",
      "241       22.67  2.00    Male    Yes   Sat  Dinner     2\n",
      "242       17.82  1.75    Male     No   Sat  Dinner     2\n",
      "243       18.78  3.00  Female     No  Thur  Dinner     2\n",
      "\n",
      "[244 rows x 7 columns]\n"
     ]
    }
   ],
   "source": [
    "import pandas as pd\n",
    "import matplotlib.pyplot as plt\n",
    "\n",
    "# Load the data from the CSV file\n",
    "df = pd.read_csv('tips.csv')\n",
    "\n",
    "# Plot boxplot before treatment\n",
    "plt.figure(figsize=(8, 6))\n",
    "plt.title(\"Boxplot of 'total_bill' before treatment\")\n",
    "plt.boxplot(df['total_bill'])\n",
    "plt.xlabel('total_bill')\n",
    "plt.show()\n",
    "\n",
    "# Detect outliers using z-score method\n",
    "z_scores = (df['total_bill'] - df['total_bill'].mean()) / df['total_bill'].std()\n",
    "threshold = 3  # Adjust the threshold as desired (typically 2 or 3)\n",
    "\n",
    "# Apply transformation approach to treat outliers\n",
    "df['total_bill'] = df['total_bill'].where(abs(z_scores) <= threshold, df['total_bill'].median())\n",
    "\n",
    "# Plot boxplot after treatment\n",
    "plt.figure(figsize=(8, 6))\n",
    "plt.title(\"Boxplot of 'total_bill' after treatment\")\n",
    "plt.boxplot(df['total_bill'])\n",
    "plt.xlabel('total_bill')\n",
    "plt.show()\n",
    "\n",
    "# Print the updated dataset\n",
    "print(df)\n"
   ]
  },
  {
   "cell_type": "markdown",
   "id": "2e8bfa6f",
   "metadata": {
    "id": "2e8bfa6f"
   },
   "source": [
    "### 18. Is there are any outliers present in the column 'tip'? If yes remove them using IQR techinque."
   ]
  },
  {
   "cell_type": "code",
   "execution_count": 32,
   "id": "29d3f9e0",
   "metadata": {
    "id": "29d3f9e0",
    "scrolled": true
   },
   "outputs": [
    {
     "name": "stdout",
     "output_type": "stream",
     "text": [
      "     total_bill   tip     sex smoker   day    time  size\n",
      "0         16.99  1.01  Female     No   Sun  Dinner     2\n",
      "1         10.34  1.66    Male     No   Sun  Dinner     3\n",
      "2         21.01  3.50    Male     No   Sun  Dinner     3\n",
      "3         23.68  3.31    Male     No   Sun  Dinner     2\n",
      "4         24.59  3.61  Female     No   Sun  Dinner     4\n",
      "..          ...   ...     ...    ...   ...     ...   ...\n",
      "238       35.83  4.67  Female     No   Sat  Dinner     3\n",
      "240       27.18  2.00  Female    Yes   Sat  Dinner     2\n",
      "241       22.67  2.00    Male    Yes   Sat  Dinner     2\n",
      "242       17.82  1.75    Male     No   Sat  Dinner     2\n",
      "243       18.78  3.00  Female     No  Thur  Dinner     2\n",
      "\n",
      "[235 rows x 7 columns]\n"
     ]
    }
   ],
   "source": [
    "import pandas as pd\n",
    "\n",
    "# Load the data from the CSV file\n",
    "df = pd.read_csv('tips.csv')\n",
    "\n",
    "# Calculate the IQR range\n",
    "Q1 = df['tip'].quantile(0.25)\n",
    "Q3 = df['tip'].quantile(0.75)\n",
    "IQR = Q3 - Q1\n",
    "\n",
    "# Identify the lower and upper bounds for outliers\n",
    "lower_bound = Q1 - (1.5 * IQR)\n",
    "upper_bound = Q3 + (1.5 * IQR)\n",
    "\n",
    "# Remove outliers using the IQR technique\n",
    "df = df[(df['tip'] >= lower_bound) & (df['tip'] <= upper_bound)]\n",
    "\n",
    "# Print the updated dataset\n",
    "print(df)\n"
   ]
  },
  {
   "cell_type": "markdown",
   "id": "10d91bd7",
   "metadata": {
    "id": "10d91bd7"
   },
   "source": [
    "### 19. Encode the categorical columns in the dataset and print the random 5 samples from the dataframe."
   ]
  },
  {
   "cell_type": "code",
   "execution_count": 33,
   "id": "05ad1918",
   "metadata": {
    "id": "05ad1918",
    "scrolled": true
   },
   "outputs": [
    {
     "name": "stdout",
     "output_type": "stream",
     "text": [
      "     total_bill   tip  sex  smoker  day  time  size\n",
      "226       10.09  2.00    0       1    0     1     2\n",
      "174       16.82  4.00    1       1    2     0     2\n",
      "200       18.71  4.00    1       1    3     1     3\n",
      "172        7.25  5.15    1       1    2     0     2\n",
      "179       34.63  3.55    1       1    2     0     2\n"
     ]
    }
   ],
   "source": [
    "import pandas as pd\n",
    "from sklearn.preprocessing import LabelEncoder\n",
    "\n",
    "# Load the data from the CSV file\n",
    "df = pd.read_csv('tips.csv')\n",
    "\n",
    "# Encode categorical columns\n",
    "categorical_columns = ['sex', 'smoker', 'day', 'time']\n",
    "\n",
    "label_encoder = LabelEncoder()\n",
    "for column in categorical_columns:\n",
    "    df[column] = label_encoder.fit_transform(df[column])\n",
    "\n",
    "# Print random 5 samples from the dataframe\n",
    "print(df.sample(n=5))\n"
   ]
  },
  {
   "cell_type": "markdown",
   "id": "54ebc8e9",
   "metadata": {
    "id": "54ebc8e9"
   },
   "source": [
    "### 20. Check the range of the column 'total_bill' and transform the values such that the range will be 1."
   ]
  },
  {
   "cell_type": "code",
   "execution_count": 34,
   "id": "fb841382",
   "metadata": {
    "id": "fb841382",
    "scrolled": true
   },
   "outputs": [
    {
     "name": "stdout",
     "output_type": "stream",
     "text": [
      "     total_bill   tip     sex smoker   day    time  size\n",
      "0      0.291579  1.01  Female     No   Sun  Dinner     2\n",
      "1      0.152283  1.66    Male     No   Sun  Dinner     3\n",
      "2      0.375786  3.50    Male     No   Sun  Dinner     3\n",
      "3      0.431713  3.31    Male     No   Sun  Dinner     2\n",
      "4      0.450775  3.61  Female     No   Sun  Dinner     4\n",
      "..          ...   ...     ...    ...   ...     ...   ...\n",
      "239    0.543779  5.92    Male     No   Sat  Dinner     3\n",
      "240    0.505027  2.00  Female    Yes   Sat  Dinner     2\n",
      "241    0.410557  2.00    Male    Yes   Sat  Dinner     2\n",
      "242    0.308965  1.75    Male     No   Sat  Dinner     2\n",
      "243    0.329074  3.00  Female     No  Thur  Dinner     2\n",
      "\n",
      "[244 rows x 7 columns]\n"
     ]
    }
   ],
   "source": [
    "import pandas as pd\n",
    "\n",
    "# Load the data from the CSV file\n",
    "df = pd.read_csv('tips.csv')\n",
    "\n",
    "# Check the range of the 'total_bill' column\n",
    "total_bill_min = df['total_bill'].min()\n",
    "total_bill_max = df['total_bill'].max()\n",
    "\n",
    "# Transform the 'total_bill' column to have a range of 1\n",
    "df['total_bill'] = (df['total_bill'] - total_bill_min) / (total_bill_max - total_bill_min)\n",
    "\n",
    "# Print the updated dataset\n",
    "print(df)\n"
   ]
  },
  {
   "cell_type": "markdown",
   "id": "_yaGehJD5Fhe",
   "metadata": {
    "id": "_yaGehJD5Fhe"
   },
   "source": [
    "### 21. Load the dataset again by giving the name of the dataframe as \"tips_df\"\n",
    "- i) Encode the categorical variables.\n",
    "- ii) Store the target column (i.e.tip) in the y variable and the rest of the columns in the X variable"
   ]
  },
  {
   "cell_type": "code",
   "execution_count": 4,
   "id": "ruS7FI5s5Jt2",
   "metadata": {
    "id": "ruS7FI5s5Jt2",
    "scrolled": true
   },
   "outputs": [
    {
     "name": "stdout",
     "output_type": "stream",
     "text": [
      "Encoded DataFrame:\n",
      "     total_bill   tip  sex  smoker  day  time  size\n",
      "0         16.99  1.01    0       0    2     0     2\n",
      "1         10.34  1.66    1       0    2     0     3\n",
      "2         21.01  3.50    1       0    2     0     3\n",
      "3         23.68  3.31    1       0    2     0     2\n",
      "4         24.59  3.61    0       0    2     0     4\n",
      "..          ...   ...  ...     ...  ...   ...   ...\n",
      "239       29.03  5.92    1       0    1     0     3\n",
      "240       27.18  2.00    0       1    1     0     2\n",
      "241       22.67  2.00    1       1    1     0     2\n",
      "242       17.82  1.75    1       0    1     0     2\n",
      "243       18.78  3.00    0       0    3     0     2\n",
      "\n",
      "[244 rows x 7 columns]\n",
      "X:\n",
      "     total_bill  sex  smoker  day  time  size\n",
      "0         16.99    0       0    2     0     2\n",
      "1         10.34    1       0    2     0     3\n",
      "2         21.01    1       0    2     0     3\n",
      "3         23.68    1       0    2     0     2\n",
      "4         24.59    0       0    2     0     4\n",
      "..          ...  ...     ...  ...   ...   ...\n",
      "239       29.03    1       0    1     0     3\n",
      "240       27.18    0       1    1     0     2\n",
      "241       22.67    1       1    1     0     2\n",
      "242       17.82    1       0    1     0     2\n",
      "243       18.78    0       0    3     0     2\n",
      "\n",
      "[244 rows x 6 columns]\n",
      "y:\n",
      "0      1.01\n",
      "1      1.66\n",
      "2      3.50\n",
      "3      3.31\n",
      "4      3.61\n",
      "       ... \n",
      "239    5.92\n",
      "240    2.00\n",
      "241    2.00\n",
      "242    1.75\n",
      "243    3.00\n",
      "Name: tip, Length: 244, dtype: float64\n"
     ]
    }
   ],
   "source": [
    "import pandas as pd\n",
    "from sklearn.preprocessing import LabelEncoder\n",
    "\n",
    "# Read the dataset from a CSV file\n",
    "filename = \"tips.csv\"\n",
    "tips_df = pd.read_csv(filename)\n",
    "\n",
    "# Encode categorical variables\n",
    "label_encoder = LabelEncoder()\n",
    "categorical_cols = ['sex', 'smoker', 'day', 'time']\n",
    "for col in categorical_cols:\n",
    "    tips_df[col] = label_encoder.fit_transform(tips_df[col])\n",
    "\n",
    "# Separate the target column and feature columns\n",
    "X = tips_df.drop('tip', axis=1)\n",
    "y = tips_df['tip']\n",
    "\n",
    "# Print the encoded DataFrame and the X, y variables\n",
    "print(\"Encoded DataFrame:\")\n",
    "print(tips_df)\n",
    "print(\"X:\")\n",
    "print(X)\n",
    "print(\"y:\")\n",
    "print(y)\n"
   ]
  },
  {
   "cell_type": "markdown",
   "id": "6jnqKmXQ5KB9",
   "metadata": {
    "id": "6jnqKmXQ5KB9"
   },
   "source": [
    "### 22. Split the dataset into two parts (i.e. 70% train and 30% test), and Standardize the columns \"total_bill\" and \"Size\" using the mim_max scaling approach"
   ]
  },
  {
   "cell_type": "code",
   "execution_count": 36,
   "id": "l-jHM1e_5OSp",
   "metadata": {
    "id": "l-jHM1e_5OSp",
    "scrolled": true
   },
   "outputs": [
    {
     "name": "stdout",
     "output_type": "stream",
     "text": [
      "Train set:\n",
      "     total_bill   tip     sex smoker  day    time  size\n",
      "234    0.217044  3.00    Male    Yes  Sat  Dinner   0.2\n",
      "227    0.326232  3.00    Male     No  Sat  Dinner   0.6\n",
      "180    0.641367  3.68    Male    Yes  Sun  Dinner   0.6\n",
      "5      0.433644  4.71    Male     No  Sun  Dinner   0.6\n",
      "56     0.715934  3.00    Male    Yes  Sat  Dinner   0.6\n",
      "..          ...   ...     ...    ...  ...     ...   ...\n",
      "106    0.327119  4.06    Male    Yes  Sat  Dinner   0.2\n",
      "14     0.201509  3.02  Female     No  Sun  Dinner   0.2\n",
      "92     0.000000  1.00  Female    Yes  Fri  Dinner   0.2\n",
      "179    0.640923  3.55    Male    Yes  Sun  Dinner   0.2\n",
      "102    0.855526  2.50  Female    Yes  Sat  Dinner   0.4\n",
      "\n",
      "[170 rows x 7 columns]\n",
      "\n",
      "Test set:\n",
      "     total_bill   tip     sex smoker   day    time  size\n",
      "24     0.312250  3.18    Male     No   Sat  Dinner   0.2\n",
      "6      0.067022  2.00    Male     No   Sun  Dinner   0.2\n",
      "153    0.417221  2.00    Male     No   Sun  Dinner   0.6\n",
      "211    0.446960  5.16    Male    Yes   Sat  Dinner   0.6\n",
      "198    0.160897  2.00  Female    Yes  Thur   Lunch   0.2\n",
      "..          ...   ...     ...    ...   ...     ...   ...\n",
      "165    0.416556  3.48    Male     No   Sun  Dinner   0.4\n",
      "154    0.311141  2.00    Male     No   Sun  Dinner   0.6\n",
      "216    0.497115  3.00    Male    Yes   Sat  Dinner   0.8\n",
      "79     0.256103  2.71    Male     No  Thur   Lunch   0.2\n",
      "29     0.308478  3.00  Female     No   Sat  Dinner   0.2\n",
      "\n",
      "[74 rows x 7 columns]\n"
     ]
    }
   ],
   "source": [
    "import pandas as pd\n",
    "from sklearn.model_selection import train_test_split\n",
    "from sklearn.preprocessing import MinMaxScaler\n",
    "\n",
    "# Load the dataset from the CSV file\n",
    "df = pd.read_csv('tips.csv')\n",
    "\n",
    "# Split the dataset into train and test sets\n",
    "train_df, test_df = train_test_split(df, test_size=0.3, random_state=42)\n",
    "\n",
    "# Standardize the columns \"total_bill\" and \"size\" using min-max scaling\n",
    "scaler = MinMaxScaler()\n",
    "train_df[['total_bill', 'size']] = scaler.fit_transform(train_df[['total_bill', 'size']])\n",
    "test_df[['total_bill', 'size']] = scaler.transform(test_df[['total_bill', 'size']])\n",
    "\n",
    "# Print the train and test sets\n",
    "print(\"Train set:\")\n",
    "print(train_df)\n",
    "print()\n",
    "print(\"Test set:\")\n",
    "print(test_df)\n"
   ]
  },
  {
   "cell_type": "markdown",
   "id": "6L5jwTPW5Oh-",
   "metadata": {
    "id": "6L5jwTPW5Oh-"
   },
   "source": [
    "### 23. Train a linear regression model using the training data and print the r_squared value of the prediction on the test data."
   ]
  },
  {
   "cell_type": "code",
   "execution_count": 38,
   "id": "HODaP3gg5SHY",
   "metadata": {
    "id": "HODaP3gg5SHY",
    "scrolled": true
   },
   "outputs": [
    {
     "name": "stdout",
     "output_type": "stream",
     "text": [
      "R-squared value: 0.2931\n"
     ]
    }
   ],
   "source": [
    "import pandas as pd\n",
    "from sklearn.model_selection import train_test_split\n",
    "from sklearn.linear_model import LinearRegression\n",
    "from sklearn.compose import ColumnTransformer\n",
    "from sklearn.preprocessing import OneHotEncoder\n",
    "from sklearn.metrics import r2_score\n",
    "\n",
    "# Load the dataset from the CSV file\n",
    "df = pd.read_csv('tips.csv')\n",
    "\n",
    "# Split the dataset into train and test sets\n",
    "X = df.drop('tip', axis=1)\n",
    "y = df['tip']\n",
    "X_train, X_test, y_train, y_test = train_test_split(X, y, test_size=0.3, random_state=42)\n",
    "\n",
    "# Define the categorical columns for one-hot encoding\n",
    "categorical_columns = ['sex', 'smoker', 'day', 'time']\n",
    "\n",
    "# Apply one-hot encoding to the categorical columns\n",
    "preprocessor = ColumnTransformer([('encoder', OneHotEncoder(), categorical_columns)], remainder='passthrough')\n",
    "X_train = preprocessor.fit_transform(X_train)\n",
    "X_test = preprocessor.transform(X_test)\n",
    "\n",
    "# Train a linear regression model\n",
    "model = LinearRegression()\n",
    "model.fit(X_train, y_train)\n",
    "\n",
    "# Predict on the test data and compute the R-squared value\n",
    "y_pred = model.predict(X_test)\n",
    "r_squared = r2_score(y_test, y_pred)\n",
    "\n",
    "# Print the R-squared value\n",
    "print(\"R-squared value: {:.4f}\".format(r_squared))\n"
   ]
  },
  {
   "cell_type": "markdown",
   "id": "388b6163",
   "metadata": {
    "id": "388b6163"
   },
   "source": [
    "### Happy Learning:)"
   ]
  }
 ],
 "metadata": {
  "colab": {
   "name": "W3 - W6 Lab Session.ipynb",
   "provenance": []
  },
  "kernelspec": {
   "display_name": "Python 3 (ipykernel)",
   "language": "python",
   "name": "python3"
  },
  "language_info": {
   "codemirror_mode": {
    "name": "ipython",
    "version": 3
   },
   "file_extension": ".py",
   "mimetype": "text/x-python",
   "name": "python",
   "nbconvert_exporter": "python",
   "pygments_lexer": "ipython3",
   "version": "3.11.3"
  }
 },
 "nbformat": 4,
 "nbformat_minor": 5
}
